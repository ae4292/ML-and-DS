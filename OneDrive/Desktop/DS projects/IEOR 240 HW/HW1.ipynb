{
 "cells": [
  {
   "cell_type": "markdown",
   "metadata": {},
   "source": [
    "# IEOR 240 HW1"
   ]
  },
  {
   "cell_type": "code",
   "execution_count": 7,
   "metadata": {},
   "outputs": [],
   "source": [
    "import gurobipy as gp\n",
    "from gurobipy import GRB"
   ]
  },
  {
   "cell_type": "markdown",
   "metadata": {},
   "source": [
    "#### Problem 1\n",
    "\n",
    "Max: \n",
    "\n",
    "30A + 20B\n",
    "\n",
    "s.t :\n",
    "\n",
    "2A + 1B <= 120\n",
    "\n",
    "5A + 4B <= 100"
   ]
  },
  {
   "cell_type": "code",
   "execution_count": 8,
   "metadata": {},
   "outputs": [
    {
     "name": "stdout",
     "output_type": "stream",
     "text": [
      "Gurobi Optimizer version 10.0.2 build v10.0.2rc0 (win64)\n",
      "\n",
      "CPU model: Intel(R) Core(TM) i7-9750H CPU @ 2.60GHz, instruction set [SSE2|AVX|AVX2]\n",
      "Thread count: 6 physical cores, 12 logical processors, using up to 12 threads\n",
      "\n",
      "Optimize a model with 2 rows, 2 columns and 4 nonzeros\n",
      "Model fingerprint: 0x4343853a\n",
      "Variable types: 0 continuous, 2 integer (0 binary)\n",
      "Coefficient statistics:\n",
      "  Matrix range     [1e+00, 5e+00]\n",
      "  Objective range  [2e+01, 3e+01]\n",
      "  Bounds range     [0e+00, 0e+00]\n",
      "  RHS range        [1e+02, 1e+02]\n",
      "Found heuristic solution: objective 600.0000000\n",
      "Presolve removed 2 rows and 2 columns\n",
      "Presolve time: 0.00s\n",
      "Presolve: All rows and columns removed\n",
      "\n",
      "Explored 0 nodes (0 simplex iterations) in 0.01 seconds (0.00 work units)\n",
      "Thread count was 1 (of 12 available processors)\n",
      "\n",
      "Solution count 1: 600 \n",
      "\n",
      "Optimal solution found (tolerance 1.00e-04)\n",
      "Best objective 6.000000000000e+02, best bound 6.000000000000e+02, gap 0.0000%\n",
      "A 20\n",
      "B 0\n",
      "Obj: 600\n"
     ]
    }
   ],
   "source": [
    "m = gp.Model(\"mip1\")\n",
    "\n",
    "A = m.addVar(lb = 0.0, vtype = GRB.INTEGER, name  = \"A\")\n",
    "B = m.addVar(lb = 0.0, vtype = GRB.INTEGER, name  = \"B\")\n",
    "\n",
    "m.setObjective(30 * A + 20 * B, GRB.MAXIMIZE)\n",
    "m.addConstr(2* A + 1 * B <= 120, \"c0\")\n",
    "m.addConstr(5*A + 4*B <= 100, \"c1\")\n",
    "\n",
    "m.optimize()\n",
    "for v in m.getVars():\n",
    "    print('%s %g' % (v.VarName, v.X))\n",
    "\n",
    "print('Obj: %g' % m.ObjVal)"
   ]
  },
  {
   "cell_type": "markdown",
   "metadata": {},
   "source": [
    "This problem has a unique optimal soltion of 20 A an 0 B with a profit of 600"
   ]
  },
  {
   "cell_type": "markdown",
   "metadata": {},
   "source": [
    "#### Problem 2\n",
    "\n",
    "Min:\n",
    "\n",
    "4A + 3B\n",
    "\n",
    "s.t.:\n",
    "\n",
    "2A + 1B >= 10\n",
    "\n",
    "3A + 2B >= 12\n",
    "\n",
    "1A + 2b >= 12"
   ]
  },
  {
   "cell_type": "code",
   "execution_count": 9,
   "metadata": {},
   "outputs": [
    {
     "name": "stdout",
     "output_type": "stream",
     "text": [
      "Gurobi Optimizer version 10.0.2 build v10.0.2rc0 (win64)\n",
      "\n",
      "CPU model: Intel(R) Core(TM) i7-9750H CPU @ 2.60GHz, instruction set [SSE2|AVX|AVX2]\n",
      "Thread count: 6 physical cores, 12 logical processors, using up to 12 threads\n",
      "\n",
      "Optimize a model with 3 rows, 2 columns and 6 nonzeros\n",
      "Model fingerprint: 0x4db5040b\n",
      "Variable types: 0 continuous, 2 integer (0 binary)\n",
      "Coefficient statistics:\n",
      "  Matrix range     [1e+00, 3e+00]\n",
      "  Objective range  [3e+00, 4e+00]\n",
      "  Bounds range     [0e+00, 0e+00]\n",
      "  RHS range        [1e+01, 1e+01]\n",
      "Found heuristic solution: objective 30.0000000\n",
      "Presolve removed 1 rows and 0 columns\n",
      "Presolve time: 0.00s\n",
      "Presolved: 2 rows, 2 columns, 4 nonzeros\n",
      "Variable types: 0 continuous, 2 integer (0 binary)\n",
      "\n",
      "Root relaxation: objective 2.466667e+01, 2 iterations, 0.00 seconds (0.00 work units)\n",
      "\n",
      "    Nodes    |    Current Node    |     Objective Bounds      |     Work\n",
      " Expl Unexpl |  Obj  Depth IntInf | Incumbent    BestBd   Gap | It/Node Time\n",
      "\n",
      "     0     0   24.66667    0    2   30.00000   24.66667  17.8%     -    0s\n",
      "H    0     0                      26.0000000   24.66667  5.13%     -    0s\n",
      "     0     0   24.66667    0    2   26.00000   24.66667  5.13%     -    0s\n",
      "\n",
      "Explored 1 nodes (2 simplex iterations) in 0.01 seconds (0.00 work units)\n",
      "Thread count was 12 (of 12 available processors)\n",
      "\n",
      "Solution count 2: 26 30 \n",
      "\n",
      "Optimal solution found (tolerance 1.00e-04)\n",
      "Best objective 2.600000000000e+01, best bound 2.600000000000e+01, gap 0.0000%\n",
      "A 2\n",
      "B 6\n",
      "Obj: 26\n"
     ]
    }
   ],
   "source": [
    "m = gp.Model(\"mip1\")\n",
    "\n",
    "A = m.addVar(lb = 0.0, vtype = GRB.INTEGER, name  = \"A\")\n",
    "B = m.addVar(lb = 0.0, vtype = GRB.INTEGER, name  = \"B\")\n",
    "\n",
    "m.setObjective(4 * A + 3 * B, GRB.MINIMIZE)\n",
    "m.addConstr(2* A + 1 * B >= 10, \"c0\")\n",
    "m.addConstr(3*A + 2*B >= 12, \"c1\")\n",
    "m.addConstr(1*A + 2*B >= 12, \"c2\")\n",
    "\n",
    "m.optimize()\n",
    "for v in m.getVars():\n",
    "    print('%s %g' % (v.VarName, v.X))\n",
    "\n",
    "print('Obj: %g' % m.ObjVal)"
   ]
  },
  {
   "cell_type": "markdown",
   "metadata": {},
   "source": [
    "This problem has a unique discrete solution of A = 2 and B = 6 with a minimal cost of 26"
   ]
  },
  {
   "cell_type": "markdown",
   "metadata": {},
   "source": [
    "#### Problem 3\n",
    "\n",
    "Max:\n",
    "\n",
    "1.5 * A + 2 * B\n",
    "\n",
    "s.t.\n",
    "\n",
    "A + B <= 10,000\n",
    "\n",
    "A >= 7,000\n",
    "\n",
    "B >= 6,000\n"
   ]
  },
  {
   "cell_type": "code",
   "execution_count": 14,
   "metadata": {},
   "outputs": [
    {
     "name": "stdout",
     "output_type": "stream",
     "text": [
      "Gurobi Optimizer version 10.0.2 build v10.0.2rc0 (win64)\n",
      "\n",
      "CPU model: Intel(R) Core(TM) i7-9750H CPU @ 2.60GHz, instruction set [SSE2|AVX|AVX2]\n",
      "Thread count: 6 physical cores, 12 logical processors, using up to 12 threads\n",
      "\n",
      "Optimize a model with 3 rows, 2 columns and 4 nonzeros\n",
      "Model fingerprint: 0x8389db44\n",
      "Variable types: 0 continuous, 2 integer (0 binary)\n",
      "Coefficient statistics:\n",
      "  Matrix range     [1e+00, 1e+00]\n",
      "  Objective range  [2e+00, 2e+00]\n",
      "  Bounds range     [0e+00, 0e+00]\n",
      "  RHS range        [6e+03, 1e+04]\n",
      "Presolve removed 2 rows and 0 columns\n",
      "Presolve time: 0.00s\n",
      "\n",
      "Explored 0 nodes (0 simplex iterations) in 0.01 seconds (0.00 work units)\n",
      "Thread count was 1 (of 12 available processors)\n",
      "\n",
      "Solution count 0\n",
      "\n",
      "Model is infeasible or unbounded\n",
      "Best objective -, best bound -, gap -\n"
     ]
    },
    {
     "ename": "AttributeError",
     "evalue": "Unable to retrieve attribute 'X'",
     "output_type": "error",
     "traceback": [
      "\u001b[1;31m---------------------------------------------------------------------------\u001b[0m",
      "\u001b[1;31mAttributeError\u001b[0m                            Traceback (most recent call last)",
      "Cell \u001b[1;32mIn[14], line 13\u001b[0m\n\u001b[0;32m     11\u001b[0m m\u001b[39m.\u001b[39moptimize()\n\u001b[0;32m     12\u001b[0m \u001b[39mfor\u001b[39;00m v \u001b[39min\u001b[39;00m m\u001b[39m.\u001b[39mgetVars():\n\u001b[1;32m---> 13\u001b[0m     \u001b[39mprint\u001b[39m(\u001b[39m'\u001b[39m\u001b[39m%s\u001b[39;00m\u001b[39m \u001b[39m\u001b[39m%g\u001b[39;00m\u001b[39m'\u001b[39m \u001b[39m%\u001b[39m (v\u001b[39m.\u001b[39mVarName, v\u001b[39m.\u001b[39;49mX))\n\u001b[0;32m     15\u001b[0m \u001b[39mprint\u001b[39m(\u001b[39m'\u001b[39m\u001b[39mObj: \u001b[39m\u001b[39m%g\u001b[39;00m\u001b[39m'\u001b[39m \u001b[39m%\u001b[39m m\u001b[39m.\u001b[39mObjVal)\n",
      "File \u001b[1;32msrc\\gurobipy\\var.pxi:125\u001b[0m, in \u001b[0;36mgurobipy.Var.__getattr__\u001b[1;34m()\u001b[0m\n",
      "File \u001b[1;32msrc\\gurobipy\\var.pxi:153\u001b[0m, in \u001b[0;36mgurobipy.Var.getAttr\u001b[1;34m()\u001b[0m\n",
      "File \u001b[1;32msrc\\gurobipy\\attrutil.pxi:100\u001b[0m, in \u001b[0;36mgurobipy.__getattr\u001b[1;34m()\u001b[0m\n",
      "\u001b[1;31mAttributeError\u001b[0m: Unable to retrieve attribute 'X'"
     ]
    }
   ],
   "source": [
    "m = gp.Model(\"mip1\")\n",
    "\n",
    "A = m.addVar(lb = 0.0, vtype = GRB.INTEGER, name  = \"A\")\n",
    "B = m.addVar(lb = 0.0, vtype = GRB.INTEGER, name  = \"B\")\n",
    "\n",
    "m.setObjective(1.5 * A + 2 * B, GRB.MAXIMIZE)\n",
    "m.addConstr(A + B <= 10000, \"c0\")\n",
    "m.addConstr(A >= 6000, \"c1\")\n",
    "m.addConstr(B >= 7000, \"c2\")\n",
    "\n",
    "m.optimize()\n",
    "for v in m.getVars():\n",
    "    print('%s %g' % (v.VarName, v.X))\n",
    "\n",
    "print('Obj: %g' % m.ObjVal)"
   ]
  },
  {
   "cell_type": "markdown",
   "metadata": {},
   "source": [
    "This is infeasible as 6,000 + 7,000 would be over our constraint of 10,000"
   ]
  },
  {
   "cell_type": "markdown",
   "metadata": {},
   "source": [
    "#### Problem 4\n",
    "\n",
    "Max:\n",
    "\n",
    "1.5 * A + 2 * B\n",
    "\n",
    "s.t.\n",
    "\n",
    "|A - B| <= 1"
   ]
  },
  {
   "cell_type": "code",
   "execution_count": 13,
   "metadata": {},
   "outputs": [
    {
     "name": "stdout",
     "output_type": "stream",
     "text": [
      "Gurobi Optimizer version 10.0.2 build v10.0.2rc0 (win64)\n",
      "\n",
      "CPU model: Intel(R) Core(TM) i7-9750H CPU @ 2.60GHz, instruction set [SSE2|AVX|AVX2]\n",
      "Thread count: 6 physical cores, 12 logical processors, using up to 12 threads\n",
      "\n",
      "Optimize a model with 2 rows, 3 columns and 4 nonzeros\n",
      "Model fingerprint: 0x5f868418\n",
      "Variable types: 0 continuous, 3 integer (0 binary)\n",
      "Coefficient statistics:\n",
      "  Matrix range     [1e+00, 1e+00]\n",
      "  Objective range  [2e+00, 2e+00]\n",
      "  Bounds range     [0e+00, 0e+00]\n",
      "  RHS range        [1e+00, 1e+00]\n",
      "Found heuristic solution: objective -0.0000000\n",
      "Presolve removed 1 rows and 1 columns\n",
      "Presolve time: 0.00s\n",
      "\n",
      "Explored 0 nodes (0 simplex iterations) in 0.01 seconds (0.00 work units)\n",
      "Thread count was 1 (of 12 available processors)\n",
      "\n",
      "Solution count 1: -0 \n",
      "No other solutions better than 0\n",
      "\n",
      "Model is unbounded\n",
      "Best objective -0.000000000000e+00, best bound -, gap -\n",
      "A -0\n",
      "B -0\n",
      "diff -0\n",
      "Obj: -0\n"
     ]
    }
   ],
   "source": [
    "m = gp.Model(\"mip1\")\n",
    "\n",
    "A = m.addVar(lb = 0.0, vtype = GRB.INTEGER, name  = \"A\")\n",
    "B = m.addVar(lb = 0.0, vtype = GRB.INTEGER, name  = \"B\")\n",
    "diff = m.addVar(lb = 0.0, vtype = GRB.INTEGER, name  = \"diff\")\n",
    "\n",
    "m.setObjective(1.5 * A + 2 * B, GRB.MAXIMIZE)\n",
    "m.addConstr(diff == A - B, \"cdiff\")\n",
    "m.addConstr(diff <= 1, \"c0\")\n",
    "\n",
    "\n",
    "m.optimize()\n",
    "for v in m.getVars():\n",
    "    print('%s %g' % (v.VarName, v.X))\n",
    "\n",
    "print('Obj: %g' % m.ObjVal)"
   ]
  },
  {
   "cell_type": "markdown",
   "metadata": {},
   "source": [
    "This model is unbounded with no solution"
   ]
  }
 ],
 "metadata": {
  "kernelspec": {
   "display_name": ".venv",
   "language": "python",
   "name": "python3"
  },
  "language_info": {
   "codemirror_mode": {
    "name": "ipython",
    "version": 3
   },
   "file_extension": ".py",
   "mimetype": "text/x-python",
   "name": "python",
   "nbconvert_exporter": "python",
   "pygments_lexer": "ipython3",
   "version": "3.9.13"
  },
  "orig_nbformat": 4
 },
 "nbformat": 4,
 "nbformat_minor": 2
}
