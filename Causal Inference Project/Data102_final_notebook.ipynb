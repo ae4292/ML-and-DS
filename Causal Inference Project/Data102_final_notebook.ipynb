{
  "cells": [
    {
      "attachments": {},
      "cell_type": "markdown",
      "metadata": {
        "id": "cmb7EJJmgudl"
      },
      "source": [
        "# Final Project Notebook\n",
        "\n",
        "\n"
      ]
    },
    {
      "attachments": {},
      "cell_type": "markdown",
      "metadata": {
        "id": "tSDX1M9SUOmu"
      },
      "source": [
        "### **EDA: Exploratory Data & Analysis**\n",
        "\n",
        "**Two Categorical Variables:**\n",
        "\n",
        "Goverment Spending - Transportation\n",
        "\n",
        "Goverment Spending - Mass Transit\n",
        "\n",
        "**Three Quantitative Variables:**\n",
        "\n",
        "Goverment spending - transportation\n",
        "\n",
        "Unemployment Rate\n",
        "\n",
        "Personal Spending - Gas"
      ]
    },
    {
      "cell_type": "code",
      "execution_count": null,
      "metadata": {
        "id": "PvfcOUfUDLLJ"
      },
      "outputs": [],
      "source": [
        "import pandas as pd\n",
        "import matplotlib.pyplot as plt\n",
        "import numpy as np\n",
        "import seaborn as sns\n",
        "import statsmodels.api as sm\n",
        "\n",
        "data = pd.read_csv(\"Monthly_Transportation_Statistics.csv\")"
      ]
    },
    {
      "cell_type": "code",
      "execution_count": null,
      "metadata": {
        "id": "_RrL69PFfMWh"
      },
      "outputs": [],
      "source": [
        "\n",
        "#Data Cleaning\n",
        "data1 = data[[\"Date\",\n",
        "       \"State and Local Government Construction Spending - Mass Transit\",\n",
        "       \"State and Local Government Construction Spending - Transportation\",\n",
        "       \"Highway Fuel Price - Regular Gasoline\",\n",
        "       \"Personal Spending on Transportation - Gasoline and Other Energy Goods - Seasonally Adjusted\",\n",
        "       \"Unemployment Rate - Seasonally Adjusted\",\n",
        "       'Unemployed - Seasonally Adjusted',\n",
        "       'State and Local Government Construction Spending - Total',\n",
        "       \"State and Local Government Construction Spending - Pavement\",\n",
        "       \"State and Local Government Construction Spending - Highway and Street\",\n",
        "       'State and Local Government Construction Spending - High School', \n",
        "       'State and Local Government Construction Spending - Correctional', \n",
        "       'State and Local Government Construction Spending - Neighborhood Center'\n",
        "      ]]\n",
        "data1 = data1.rename(columns = {\n",
        "       \"State and Local Government Construction Spending - Mass Transit\": \"GS Mass Transit\",\n",
        "       \"State and Local Government Construction Spending - Transportation\": \"GS Transportation\",\n",
        "       \"Highway Fuel Price - Regular Gasoline\": \"Gas Price\",\n",
        "       \"Personal Spending on Transportation - Gasoline and Other Energy Goods - Seasonally Adjusted\": \"PS Gas Energy\",\n",
        "       \"Unemployment Rate - Seasonally Adjusted\": \"Unemployment Rate\",\n",
        "        'Unemployed - Seasonally Adjusted': 'Unemployed',\n",
        "        \"State and Local Government Construction Spending - Total\" : \"GS Total\",\n",
        "        \"State and Local Government Construction Spending - Pavement\": \"GS Pavement\",\n",
        "        \"State and Local Government Construction Spending - Highway and Street\": \"GS Highway\",\n",
        "        'State and Local Government Construction Spending - High School':'high_school', \n",
        "        'State and Local Government Construction Spending - Correctional':'correctional', \n",
        "        'State and Local Government Construction Spending - Neighborhood Center':'neighborhood'\n",
        "\n",
        "})\n",
        "\n",
        "#Select Columns until first non NaN and reset index\n",
        "q1data = data1.iloc[data1.notna().idxmax()[4]:913]\n",
        "q1data = q1data.drop(columns = {\"Unemployment Rate\", \"Unemployed\"})\n",
        "q1data = q1data[~q1data[\"PS Gas Energy\"].isna()]\n",
        "q1data = q1data.reset_index(drop=True)\n",
        "\n",
        "q2data = data1.iloc[data1.notna().idxmax()[4]:913]\n",
        "q2data = q2data.drop(columns = {\"PS Gas Energy\"})\n",
        "q2data = q2data[~q2data[\"Unemployment Rate\"].isna()]\n",
        "q2data = q2data.reset_index(drop=True)\n"
      ]
    },
    {
      "attachments": {},
      "cell_type": "markdown",
      "metadata": {
        "id": "YRLElu5MXGd2"
      },
      "source": [
        "#### Histogram and KDE of Categorical Variables:  Personal Spending on Gas for Government Spending on Mass Transit and Transportation"
      ]
    },
    {
      "cell_type": "code",
      "execution_count": null,
      "metadata": {
        "id": "NT0Cn46hFtwX",
        "tags": []
      },
      "outputs": [],
      "source": [
        "goverment_transportation = q1data[\"GS Transportation\"]\n",
        "government_mass_transit = q1data[\"GS Mass Transit\"]\n",
        "personal_spending_gas = q1data[\"PS Gas Energy\"]\n",
        "\n",
        "date = q1data[\"Date\"]\n",
        "date = date.str.findall(\"\\d{4}\")\n",
        "q1data[\"DemiDecade\"] = date\n",
        "q1data[\"DemiDecade\"] = q1data[\"DemiDecade\"].apply(lambda code: \" \".join(set(code)))\n",
        "q1data[\"DemiDecade\"] = q1data[\"DemiDecade\"].apply(lambda x: float(x) // 5 * 5)\n",
        "q1data[\"DemiDecade\"] = q1data[\"DemiDecade\"].astype(int)"
      ]
    },
    {
      "cell_type": "code",
      "execution_count": null,
      "metadata": {
        "colab": {
          "base_uri": "https://localhost:8080/",
          "height": 489
        },
        "id": "w_YJHdejGJAW",
        "outputId": "7d36d994-95a7-426f-e48f-70a4a957b3c3"
      },
      "outputs": [],
      "source": [
        "plt.hist(goverment_transportation, rwidth= 0.9, bins = 15)\n",
        "plt.title(\"Goverement Transportation\")\n",
        "plt.xlabel(\"Goverment Spending- Transportation\")\n",
        "plt.ylabel(\"Density\")"
      ]
    },
    {
      "cell_type": "code",
      "execution_count": null,
      "metadata": {
        "colab": {
          "base_uri": "https://localhost:8080/",
          "height": 489
        },
        "id": "aG-Cn_4vxdFX",
        "outputId": "8f1ce685-7383-4fc4-c1d3-e3b470c37e6f"
      },
      "outputs": [],
      "source": [
        "plt.hist(government_mass_transit, rwidth= 0.9, bins = 15)\n",
        "plt.title(\"Goverement Mass Transit\")\n",
        "plt.xlabel(\"Goverment Spending - Mass Transit\")\n",
        "plt.ylabel(\"Density\")"
      ]
    },
    {
      "cell_type": "code",
      "execution_count": null,
      "metadata": {
        "colab": {
          "base_uri": "https://localhost:8080/",
          "height": 489
        },
        "id": "0m4L8xAzGLcE",
        "outputId": "b65aa624-0ec7-4b39-baa1-8dc9ba0e8ea1"
      },
      "outputs": [],
      "source": [
        "#Carolina - Overall historgram for personal spending on gas\n",
        "plt.hist(personal_spending_gas, rwidth= 0.9, bins = 20)\n",
        "plt.title(\"Personal Spending on Gas\")\n",
        "plt.xlabel(\"Personal Spending on Gas\")\n",
        "plt.ylabel(\"Density\")"
      ]
    },
    {
      "cell_type": "code",
      "execution_count": null,
      "metadata": {
        "colab": {
          "base_uri": "https://localhost:8080/",
          "height": 1000
        },
        "id": "sI5HqsATGP9-",
        "outputId": "971eb1e4-1bf2-45e8-c165-4be642db0e8e"
      },
      "outputs": [],
      "source": [
        "#Carolina - KDE for goverment spending on transportation\n",
        "sns.displot(q1data, x = goverment_transportation,  kind= \"kde\", hue = q1data[\"DemiDecade\"])\n",
        "sns.displot(q1data, x = government_mass_transit,  kind= \"kde\", hue = q1data[\"DemiDecade\"])\n"
      ]
    },
    {
      "cell_type": "code",
      "execution_count": null,
      "metadata": {
        "colab": {
          "base_uri": "https://localhost:8080/",
          "height": 523
        },
        "id": "WPvigf_YGUBi",
        "outputId": "557953c4-13fa-4e71-e0ae-b145cad66644"
      },
      "outputs": [],
      "source": [
        "#Carolina - KDE for personal gas for each year\n",
        "sns.displot(q1data, x = personal_spending_gas, kind = \"kde\", hue =  q1data[\"DemiDecade\"])"
      ]
    },
    {
      "attachments": {},
      "cell_type": "markdown",
      "metadata": {
        "id": "bvTM1y6iW0pJ"
      },
      "source": [
        "#### Boxplot of Categorical Variables: Personal Spending on Gas for Government Spending on Mass Transit and Transportation"
      ]
    },
    {
      "cell_type": "code",
      "execution_count": null,
      "metadata": {
        "colab": {
          "base_uri": "https://localhost:8080/",
          "height": 901
        },
        "id": "1h_8yDVcTfZK",
        "outputId": "c1da40cc-3a25-488d-8828-1ea69d41a010"
      },
      "outputs": [],
      "source": [
        "percentiles  = [\n",
        "    np.percentile(q1data[\"GS Mass Transit\"], 50),\n",
        "    np.percentile(q1data[\"GS Transportation\"], 50)\n",
        "]\n",
        "    \n",
        "\n",
        "def boxplot_func(gs_column,ps_column, index):\n",
        "    \n",
        "    high = q1data[q1data[gs_column] >= percentiles[index]][ps_column]\n",
        "    low = q1data[q1data[gs_column] <= percentiles[index]][ps_column]\n",
        "\n",
        "    df = pd.DataFrame({gs_column:high, ps_column:np.repeat(\"high gov spending\",len(high))})\n",
        "    df1 = pd.DataFrame({gs_column:low, ps_column:np.repeat(\" low gov spending\",len(low))})\n",
        "    \n",
        "\n",
        "    pd.concat([df,df1]).boxplot(column=gs_column,by=ps_column)\n",
        "    plt.title(\"\")\n",
        "    plt.suptitle(f\"Boxplot of {ps_column} by level of {gs_column}\")\n",
        "    plt.xlabel(\"\")\n",
        "    plt.ylabel(ps_column)\n",
        "\n",
        "boxplot_func(\"GS Mass Transit\", \"PS Gas Energy\", 0)\n",
        "boxplot_func(\"GS Transportation\", \"PS Gas Energy\", 1)"
      ]
    },
    {
      "attachments": {},
      "cell_type": "markdown",
      "metadata": {
        "id": "gXYVxYTOXT8B"
      },
      "source": [
        "#### Histograms and KDEs of Quantitative Variables: Government Spending on Transportation and Personal Spending on Gas and other Energy"
      ]
    },
    {
      "cell_type": "code",
      "execution_count": null,
      "metadata": {
        "colab": {
          "base_uri": "https://localhost:8080/",
          "height": 754
        },
        "id": "L7udMhk8fyEh",
        "outputId": "44ed77fa-911c-4447-8194-ab243e898e70"
      },
      "outputs": [],
      "source": [
        "q2data.plot(x=\"Date\", y=[\"GS Transportation\"], kind=\"bar\", figsize=(9,5)).set_xticks([])\n",
        "q2data.plot(x=\"Date\", y=[\"Unemployment Rate\"], kind=\"bar\", figsize=(9,5)).set_xticks([])"
      ]
    },
    {
      "cell_type": "code",
      "execution_count": null,
      "metadata": {
        "colab": {
          "base_uri": "https://localhost:8080/",
          "height": 795
        },
        "id": "37xXA5zxf180",
        "outputId": "2ef1a385-18d0-4825-cb0d-5b2191e6b3ca"
      },
      "outputs": [],
      "source": [
        "q2data.plot(x=\"Date\", y=[\"GS Transportation\"], kind=\"kde\", figsize=(9,5))\n",
        "plt.title(\"Density of Government Spending - Transportation\")\n",
        "q2data.plot(x=\"Date\", y=[\"Unemployment Rate\"], kind=\"kde\", figsize=(9,5))\n",
        "plt.title(\"Density of Unemployment Rate\")"
      ]
    },
    {
      "attachments": {},
      "cell_type": "markdown",
      "metadata": {
        "id": "MlYQlP_hFtWd"
      },
      "source": [
        "#### Scatterplot of Quantitative Variables: Government Spending on Transportation and Personal Spending on Gas and other Energy"
      ]
    },
    {
      "cell_type": "code",
      "execution_count": null,
      "metadata": {
        "id": "2jnjyfDSE6eN"
      },
      "outputs": [],
      "source": [
        "gov_spending = q2data['GS Transportation']\n",
        "unemployment_rate = q2data['Unemployment Rate']\n",
        "unemployed = q2data['Unemployed']"
      ]
    },
    {
      "cell_type": "code",
      "execution_count": null,
      "metadata": {
        "colab": {
          "base_uri": "https://localhost:8080/",
          "height": 472
        },
        "id": "MMUy2k_QdR3o",
        "outputId": "b53f097d-5ef9-4e29-87cb-e69c2223c156"
      },
      "outputs": [],
      "source": [
        "plt.scatter(gov_spending, unemployment_rate)\n",
        "plt.xlabel('government spending')\n",
        "plt.ylabel('unemployment rate')\n",
        "plt.title('Govt. Spending vs. Unemployment Rate')\n",
        "plt.ylim(0,.2)\n",
        "plt.show();"
      ]
    },
    {
      "cell_type": "code",
      "execution_count": null,
      "metadata": {
        "colab": {
          "base_uri": "https://localhost:8080/",
          "height": 472
        },
        "id": "qS7_L917dVGQ",
        "outputId": "2c3e0469-4b00-4823-fdc8-643bddda900c"
      },
      "outputs": [],
      "source": [
        "plt.scatter(gov_spending, unemployed)\n",
        "plt.xlabel('government spending')\n",
        "plt.ylabel('unemployed')\n",
        "plt.title('Govt. Spending vs. Unemployed Persons')\n",
        "plt.show();"
      ]
    },
    {
      "attachments": {},
      "cell_type": "markdown",
      "metadata": {
        "id": "DRar5TktfMWp"
      },
      "source": [
        "### **Research Question Results**"
      ]
    },
    {
      "attachments": {},
      "cell_type": "markdown",
      "metadata": {
        "id": "u_I2vf3OfMWp"
      },
      "source": [
        "#### Question 1: How does government spending on public transportation affect personal spending on gas?"
      ]
    },
    {
      "attachments": {},
      "cell_type": "markdown",
      "metadata": {
        "id": "4jRUfYxOfMWq"
      },
      "source": [
        "#### Question 2: Does better transportation imply less unemployment, since it makes it easier for people to get to their jobs?\n"
      ]
    },
    {
      "attachments": {},
      "cell_type": "markdown",
      "metadata": {
        "id": "qdLec-Wyld7D"
      },
      "source": [
        "### Question 1 Results"
      ]
    },
    {
      "cell_type": "code",
      "execution_count": null,
      "metadata": {
        "colab": {
          "base_uri": "https://localhost:8080/"
        },
        "id": "LSYYBfFjlOqM",
        "outputId": "a25c07ad-4155-4294-8454-de4147946c05"
      },
      "outputs": [],
      "source": [
        "import math\n",
        "q1data[\"treat\"] = q1data[\"GS Transportation\"] > np.mean(q1data[\"GS Transportation\"])\n",
        "q1data[\"treat\"] = q1data[\"treat\"].astype(int)\n",
        "outcomes = q1data.groupby(by = \"treat\").mean()[\"PS Gas Energy\"]\n",
        "causal_effect_q1data = outcomes[1] - outcomes[0]\n",
        "\n",
        "print(f\"The casual effect of government spending on transportation on personal spending on gas and other energy is ${np.round(causal_effect_q1data / 10 **9, 2)} billion under the naive model\")"
      ]
    },
    {
      "cell_type": "code",
      "execution_count": null,
      "metadata": {
        "colab": {
          "base_uri": "https://localhost:8080/"
        },
        "id": "6Cu6U_9elhJZ",
        "outputId": "d7b7b200-7fe8-4ab2-bd70-256075a66c7e"
      },
      "outputs": [],
      "source": [
        "import statsmodels.api as sm\n",
        "def fit_OLS_model(df, target_variable, explanatory_variables, intercept = False):\n",
        "    \"\"\"\n",
        "    Fits an OLS model from data.\n",
        "    \n",
        "    Inputs:\n",
        "        df: pandas DataFrame\n",
        "        target_variable: string, name of the target variable\n",
        "        explanatory_variables: list of strings, names of the explanatory variables\n",
        "        intercept: bool, if True add intercept term\n",
        "    Outputs:\n",
        "        fitted_model: model containing OLS regression results\n",
        "    \"\"\"\n",
        "    \n",
        "    target = df[target_variable]\n",
        "    inputs = df[explanatory_variables]\n",
        "    if intercept:\n",
        "        inputs = sm.add_constant(inputs)\n",
        "    \n",
        "    fitted_model = sm.OLS(target, inputs).fit()\n",
        "    return(fitted_model)\n",
        "\n",
        "def mean_squared_error(true_vals, predicted_vals):\n",
        "    \"\"\"\n",
        "    Return the mean squared error\n",
        "    \n",
        "    Inputs:\n",
        "        true_vals: array of true labels\n",
        "        predicted_vals: array labels predicted from the data\n",
        "    Output:\n",
        "        float, mean squared error of the predicted values\n",
        "    \"\"\"\n",
        "    return np.mean((true_vals - predicted_vals) ** 2)\n",
        "\n",
        "linear_model = fit_OLS_model(q1data, \"PS Gas Energy\", [\"treat\", \"GS Total\", \"GS Highway\", \"Gas Price\", \"GS Pavement\"])\n",
        "print(linear_model.summary())"
      ]
    },
    {
      "cell_type": "code",
      "execution_count": null,
      "metadata": {
        "colab": {
          "base_uri": "https://localhost:8080/"
        },
        "id": "efnhn84elkbq",
        "outputId": "6c07094f-51d1-47d7-e5cc-3e5f75201933"
      },
      "outputs": [],
      "source": [
        "linear_model_ate = linear_model.params[0]\n",
        "print(f\"The casual effect of government spending on transportation on personal spending on gas and other energy is ${np.round(linear_model_ate / 10 **9, 2)} billion under the linear regression model\")"
      ]
    },
    {
      "cell_type": "code",
      "execution_count": null,
      "metadata": {
        "id": "zo2GepErlnOv"
      },
      "outputs": [],
      "source": [
        "def draw_tau_hat(data=q1data, random_state=None):\n",
        "    \"\"\"Returns a single bootstrapped estimate of the ATE.\n",
        "    \n",
        "    Inputs:\n",
        "        data: DataFrame of observed data\n",
        "        random_state: integer to help standardize sampling output \n",
        "        for grading and troubleshooting purposes\n",
        "    Output:\n",
        "        float, estimated average treatment effect\n",
        "    \"\"\"\n",
        "    sample = data.sample(n = len(data),random_state = random_state, replace = True)\n",
        "    fit_model = fit_OLS_model(sample, \"PS Gas Energy\", [\"treat\",\"GS Total\", \"GS Highway\", \"Gas Price\", \"GS Pavement\"])\n",
        "    estimated_ate = fit_model.params[0]\n",
        "    return estimated_ate\n",
        "\n",
        "def get_bootstrapped_ate(data=q1data, n=1000):\n",
        "    \"\"\"Returns n bootstrapped estimates of the ATE.\n",
        "    \n",
        "    Inputs:\n",
        "        data: DataFrame of observed data\n",
        "        n: number of bootstrapped estimates we would like to return\n",
        "    Output:\n",
        "        list of estimated average treatment effects\n",
        "    \"\"\"\n",
        "    estimates = []\n",
        "    for i in np.arange(n):\n",
        "        estimates.append(draw_tau_hat(data))\n",
        "    return estimates"
      ]
    },
    {
      "cell_type": "code",
      "execution_count": null,
      "metadata": {
        "colab": {
          "base_uri": "https://localhost:8080/"
        },
        "id": "ARXKMPQ8l4bJ",
        "outputId": "881773c5-e733-464c-c593-1bd6be5a33e6"
      },
      "outputs": [],
      "source": [
        "ates = get_bootstrapped_ate(q1data, 1000)\n",
        "confidence_interval = [np.percentile(ates, 2.5), \n",
        "                       np.percentile(ates, 97.5)]\n",
        "print(f\"Our 95% confidence interval for our ATE is ranges from {np.round(confidence_interval[0])} to {np.round(confidence_interval[1])}\")"
      ]
    },
    {
      "cell_type": "code",
      "execution_count": null,
      "metadata": {
        "colab": {
          "base_uri": "https://localhost:8080/",
          "height": 487
        },
        "id": "8VsRhAw1l5F-",
        "outputId": "7591ed6c-f98e-4ebc-90be-605dcf011e94"
      },
      "outputs": [],
      "source": [
        "sns.histplot(ates)\n",
        "plt.hlines(1, confidence_interval[0], confidence_interval[1], linewidth=5, color = \"red\")\n",
        "plt.title(\"Bootstrapped Estimates of the ATE\")"
      ]
    },
    {
      "cell_type": "code",
      "execution_count": null,
      "metadata": {
        "colab": {
          "base_uri": "https://localhost:8080/",
          "height": 461
        },
        "id": "cAOJeW-nl7A6",
        "outputId": "303c2c8c-c0f6-43e3-c625-407bb29ded16"
      },
      "outputs": [],
      "source": [
        "from sklearn.linear_model import LogisticRegression\n",
        "X = [\"GS Total\", \"GS Highway\", \"Gas Price\", \"GS Pavement\"]\n",
        "ps_model = LogisticRegression(C=1e6).fit(q1data[X], q1data[\"treat\"])\n",
        "q1data_ps = q1data.assign(propensity_score=ps_model.predict_proba(q1data[X])[:, 1])\n",
        "q1data_ps.head()"
      ]
    },
    {
      "cell_type": "code",
      "execution_count": null,
      "metadata": {
        "colab": {
          "base_uri": "https://localhost:8080/",
          "height": 469
        },
        "id": "mNoNaXvNl_RJ",
        "outputId": "e97663c7-9675-4d2d-a053-641a251f18cc"
      },
      "outputs": [],
      "source": [
        "plt.hist(q1data_ps[q1data_ps['treat'] == 1]['propensity_score']);\n",
        "plt.title(\"Histogram of Treatment | P=1\")"
      ]
    },
    {
      "cell_type": "code",
      "execution_count": null,
      "metadata": {
        "colab": {
          "base_uri": "https://localhost:8080/",
          "height": 469
        },
        "id": "WWe_vq4FmAUU",
        "outputId": "b542d116-3712-4419-db0c-c66875f5a1e0"
      },
      "outputs": [],
      "source": [
        "plt.hist(q1data_ps[q1data_ps['treat'] == 0]['propensity_score']);\n",
        "plt.title(\"Histogram of Treatment | P=0\")"
      ]
    },
    {
      "cell_type": "code",
      "execution_count": null,
      "metadata": {
        "colab": {
          "base_uri": "https://localhost:8080/"
        },
        "id": "znYSEIbcmB5V",
        "outputId": "98509c6d-251b-45f8-bf06-715cc94bb38e"
      },
      "outputs": [],
      "source": [
        "new = q1data_ps[q1data_ps['propensity_score'].between(0.1,0.9)]\n",
        "treat =q1data_ps[q1data_ps['treat'] == 1]\n",
        "cont = q1data_ps[q1data_ps['treat'] == 0]\n",
        "\n",
        "n = len(q1data_ps)\n",
        "\n",
        "first = np.sum(treat[\"PS Gas Energy\"] / treat['propensity_score']) / n\n",
        "\n",
        "second = np.sum(cont[\"PS Gas Energy\"] / (1- cont['propensity_score'])) / n\n",
        "\n",
        "ipw_estimate = first - second\n",
        "print(f\"The casual effect of government spending on transportation on personal spending on gas and other energy is ${np.round(ipw_estimate / 10 **9, 2)} billion under the ipw model\")"
      ]
    },
    {
      "attachments": {},
      "cell_type": "markdown",
      "metadata": {
        "id": "8TkiWBotljmv"
      },
      "source": [
        "### Question 2 Results"
      ]
    },
    {
      "cell_type": "code",
      "execution_count": null,
      "metadata": {
        "id": "COZOTNAwmIN7"
      },
      "outputs": [],
      "source": [
        "#Data Cleaning for GLM\n",
        "q2data[\"Unemployment_Rate\"] = q2data[\"Unemployment Rate\"]\n",
        "q2data[\"log_GS_Mass_Transit\"] = np.log(q2data[\"GS Mass Transit\"])"
      ]
    },
    {
      "attachments": {},
      "cell_type": "markdown",
      "metadata": {
        "id": "Z6Sd_JQwmRB1"
      },
      "source": [
        "Frequentist GLM"
      ]
    },
    {
      "cell_type": "code",
      "execution_count": null,
      "metadata": {
        "colab": {
          "base_uri": "https://localhost:8080/"
        },
        "id": "FdTrisZtmKN8",
        "outputId": "08438b32-90a2-4d6b-9c51-94e72d2a3d91"
      },
      "outputs": [],
      "source": [
        "freq_model = sm.GLM(q2data[\"Unemployment Rate\"], exog = sm.add_constant(q2data[[\"log_GS_Mass_Transit\"]]), \n",
        "                  family=sm.families.Gaussian())\n",
        "freq_res = freq_model.fit()\n",
        "print(freq_res.summary())"
      ]
    },
    {
      "attachments": {},
      "cell_type": "markdown",
      "metadata": {
        "id": "NWWvJFvXmTqe"
      },
      "source": [
        "Bayesian GLM"
      ]
    },
    {
      "cell_type": "code",
      "execution_count": null,
      "metadata": {
        "id": "nt-nqK3mmOXZ",
        "outputId": "98f91473-c582-4e33-83da-856dc7d26b3b"
      },
      "outputs": [],
      "source": [
        "from pymc3 import *\n",
        "import pymc3 as pm\n",
        "with pm.Model() as bayes_model:\n",
        "    glm.GLM.from_formula('Unemployment_Rate ~ log_GS_Mass_Transit', q2data, family=glm.families.Normal())\n",
        "    # draw posterior samples using NUTS sampling\n",
        "    norm_trace = pm.sample(1000, cores=2, target_accept=0.95, init='adapt_diag')"
      ]
    },
    {
      "cell_type": "code",
      "execution_count": null,
      "metadata": {
        "id": "ipexReKimWim",
        "outputId": "1685eb46-afeb-41fe-e94b-035a6ac728c3"
      },
      "outputs": [],
      "source": [
        "import arviz as az\n",
        "az.plot_posterior(norm_trace, ['Intercept', 'log_GS_Mass_Transit'], round_to = 3)\n",
        "plt.show()\n"
      ]
    },
    {
      "cell_type": "code",
      "execution_count": null,
      "metadata": {
        "id": "0cfqV5lIAy66",
        "outputId": "5749cec4-0c2f-411f-b6c6-be43b0a54185"
      },
      "outputs": [],
      "source": [
        "with bayes_model:\n",
        "    gaussian_ppc = pm.sample_posterior_predictive(\n",
        "        norm_trace, var_names=[\"log_GS_Mass_Transit\", \"Intercept\", \"y\"]\n",
        "    )"
      ]
    },
    {
      "cell_type": "code",
      "execution_count": null,
      "metadata": {
        "id": "dCiBIWRBAzkC"
      },
      "outputs": [],
      "source": [
        "def compute_avg_prediction(ppc):\n",
        "    linear_part = np.outer(ppc[\"log_GS_Mass_Transit\"], q2data.log_GS_Mass_Transit.values) + ppc[\"Intercept\"][:,np.newaxis]\n",
        "    return linear_part\n",
        "y_hat_gaussian = compute_avg_prediction(gaussian_ppc)"
      ]
    },
    {
      "attachments": {},
      "cell_type": "markdown",
      "metadata": {
        "id": "AeQY6NEcA3ei"
      },
      "source": [
        "Posterior Predictive Check"
      ]
    },
    {
      "cell_type": "code",
      "execution_count": null,
      "metadata": {
        "id": "sSRtoj_6A1i7",
        "outputId": "4d2160d4-6d47-4fd8-998c-d5d05819172b"
      },
      "outputs": [],
      "source": [
        "_, ax = plt.subplots(figsize = (6,6))\n",
        "\n",
        "ax.plot(q2data.log_GS_Mass_Transit, q2data.Unemployment_Rate, \"o\", ms=4, alpha=0.4, label=\"Data\")\n",
        "az.plot_hdi(\n",
        "    q2data.log_GS_Mass_Transit,\n",
        "    y_hat_gaussian,\n",
        "    ax=ax,\n",
        "    hdi_prob=0.95,\n",
        "    fill_kwargs={\"alpha\": 0.8, \"label\": \"95% credible interval for avg prediction\"},\n",
        ")\n",
        "az.plot_hdi(\n",
        "    q2data.log_GS_Mass_Transit,\n",
        "    gaussian_ppc[\"y\"],\n",
        "    ax=ax,\n",
        "    hdi_prob=0.95,\n",
        "    fill_kwargs={\"alpha\": 0.8, \"color\": \"#a1dab4\", \"label\": \"95% credible interval for actual ys\"},\n",
        ")\n",
        "\n",
        "ax.set_xlabel(\"Log GS Mass Transit\")\n",
        "ax.set_ylabel(\"Unemployment Rate\")\n",
        "ax.set_title(\"Posterior predictive checks (Gaussian)\")\n",
        "ax.legend(fontsize=10);"
      ]
    },
    {
      "attachments": {},
      "cell_type": "markdown",
      "metadata": {
        "id": "H93F_SWmvLfV"
      },
      "source": [
        "Nonparametric Model: Decision Tree"
      ]
    },
    {
      "cell_type": "code",
      "execution_count": null,
      "metadata": {
        "id": "92WR2fMamcOy"
      },
      "outputs": [],
      "source": [
        "from sklearn.model_selection import train_test_split\n",
        "\n",
        "train, test = train_test_split(q2data, test_size=0.3, random_state=101)"
      ]
    },
    {
      "cell_type": "code",
      "execution_count": null,
      "metadata": {
        "id": "Yt1jnsgYvKpB",
        "outputId": "456abb37-f5a1-4e76-ba59-812cd211cd75"
      },
      "outputs": [],
      "source": [
        "X_cols = [\"GS Mass Transit\"]\n",
        "y_col = \"Unemployment Rate\"\n",
        "from sklearn.tree import DecisionTreeRegressor\n",
        "\n",
        "forest_model = DecisionTreeRegressor(max_features=1)\n",
        "\n",
        "reg = forest_model.fit(train[X_cols], train[y_col])\n",
        "\n",
        "train[\"tree_pred\"] = reg.predict(train[X_cols])\n",
        "test[\"tree_pred\"] = reg.predict(test[X_cols])\n",
        "train_rmse = np.mean((train[\"tree_pred\"] - train[\"Unemployment Rate\"]) ** 2) ** 0.5\n",
        "test_rmse = np.mean((test[\"tree_pred\"] - test[\"Unemployment Rate\"]) ** 2) ** 0.5\n",
        "\n",
        "print(\"Training set error for decision tree:\", train_rmse)\n",
        "print(\"Test set error for decision tree:    \", test_rmse)"
      ]
    },
    {
      "attachments": {},
      "cell_type": "markdown",
      "metadata": {
        "id": "0Cra8Y2umYVD"
      },
      "source": [
        "Nonparametric Model: Random Forest"
      ]
    },
    {
      "cell_type": "code",
      "execution_count": null,
      "metadata": {
        "id": "adHM2e79meb8",
        "outputId": "e76651ec-d82c-416e-84f3-70488d9bab61"
      },
      "outputs": [],
      "source": [
        "X_cols = [\"GS Mass Transit\"]\n",
        "y_col = \"Unemployment Rate\"\n",
        "from sklearn.ensemble import RandomForestRegressor\n",
        "\n",
        "forest_model = RandomForestRegressor(max_features=1)\n",
        "\n",
        "reg = forest_model.fit(train[X_cols], train[y_col])\n",
        "\n",
        "train[\"forest_pred\"] = reg.predict(train[X_cols])\n",
        "test[\"forest_pred\"] = reg.predict(test[X_cols])\n",
        "train_rmse = np.mean((train[\"forest_pred\"] - train[\"Unemployment Rate\"]) ** 2) ** 0.5\n",
        "test_rmse = np.mean((test[\"forest_pred\"] - test[\"Unemployment Rate\"]) ** 2) ** 0.5\n",
        "\n",
        "print(\"Training set error for random forest:\", train_rmse)\n",
        "print(\"Test set error for random forest:    \", test_rmse)"
      ]
    },
    {
      "cell_type": "code",
      "execution_count": null,
      "metadata": {
        "id": "A3OrcX2EgyVl"
      },
      "outputs": [],
      "source": []
    }
  ],
  "metadata": {
    "colab": {
      "provenance": []
    },
    "kernelspec": {
      "display_name": "Python 3 (ipykernel)",
      "language": "python",
      "name": "python3"
    },
    "language_info": {
      "codemirror_mode": {
        "name": "ipython",
        "version": 3
      },
      "file_extension": ".py",
      "mimetype": "text/x-python",
      "name": "python",
      "nbconvert_exporter": "python",
      "pygments_lexer": "ipython3",
      "version": "3.9.15"
    }
  },
  "nbformat": 4,
  "nbformat_minor": 0
}
