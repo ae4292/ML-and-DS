{
 "cells": [
  {
   "attachments": {},
   "cell_type": "markdown",
   "metadata": {},
   "source": [
    "## Poker Hand Classification Model Comparisons"
   ]
  },
  {
   "attachments": {},
   "cell_type": "markdown",
   "metadata": {},
   "source": [
    "In this notebook I compare the training and test dataset accuracies for the models I have selected. The models I have selected are a Random Forest Classifier, K-Nearest Neigbors Classifier, and a Gradient Boosting Classifier. The reason I chose these models was that they were best for classifiying multiple groups with greater test set accuracy."
   ]
  },
  {
   "cell_type": "code",
   "execution_count": 58,
   "metadata": {},
   "outputs": [],
   "source": [
    "import numpy as np\n",
    "import pandas as pd\n",
    "import statsmodels.api as sm\n",
    "import scipy as sc\n",
    "import matplotlib.pyplot as plt\n",
    "train_data = pd.read_csv(\"poker-hand-training-true.data\", sep = \",\", header=None)\n",
    "test_data = pd.read_csv(\"poker-hand-testing.data\", sep= \",\", header = None)\n",
    "train_data = train_data.rename(columns = {0:\"S1\", 1:\"C1\",2:\"S2\",3:\"C2\",4:\"S3\",5:\"C3\",6:\"S4\",7:\"C4\",8:\"S5\",9:\"C5\", 10:\"CLASS\"})\n",
    "test_data = test_data.rename(columns = {0:\"S1\", 1:\"C1\",2:\"S2\",3:\"C2\",4:\"S3\",5:\"C3\",6:\"S4\",7:\"C4\",8:\"S5\",9:\"C5\", 10:\"CLASS\"})\n",
    "\n",
    "X_train = train_data.iloc[:,0:9]\n",
    "y_train = pd.DataFrame(train_data.iloc[:,10])\n",
    "X_test = test_data.iloc[:,0:9]\n",
    "y_test = pd.DataFrame(test_data.iloc[:,10])\n"
   ]
  },
  {
   "attachments": {},
   "cell_type": "markdown",
   "metadata": {},
   "source": [
    "#### Random Forest Classifier"
   ]
  },
  {
   "cell_type": "code",
   "execution_count": 89,
   "metadata": {},
   "outputs": [
    {
     "name": "stderr",
     "output_type": "stream",
     "text": [
      "C:\\Users\\aende\\AppData\\Local\\Temp\\ipykernel_16756\\2689357683.py:4: DataConversionWarning: A column-vector y was passed when a 1d array was expected. Please change the shape of y to (n_samples,), for example using ravel().\n",
      "  RFC.fit(X_train, y_train)\n"
     ]
    },
    {
     "name": "stdout",
     "output_type": "stream",
     "text": [
      "Train Accuracy = 0.695921631347461\n",
      "Test Accuracy = 0.577748\n"
     ]
    }
   ],
   "source": [
    "from sklearn.ensemble import RandomForestClassifier\n",
    "\n",
    "RFC = RandomForestClassifier(min_samples_split = 50)\n",
    "RFC.fit(X_train, y_train)\n",
    "\n",
    "train_predict = RFC.predict(X_train)\n",
    "test_predict = RFC.predict(X_test)\n",
    "\n",
    "train_accuracy = np.sum(train_predict == y_train[\"CLASS\"])/len(train_predict)\n",
    "test_accuracy = np.sum(test_predict == y_test[\"CLASS\"])/len(test_predict)\n",
    "print(f\"Train Accuracy = {train_accuracy}\")\n",
    "print(f\"Test Accuracy = {test_accuracy}\")"
   ]
  },
  {
   "attachments": {},
   "cell_type": "markdown",
   "metadata": {},
   "source": [
    "#### K-Nearest Neigbors Classifier"
   ]
  },
  {
   "cell_type": "code",
   "execution_count": 90,
   "metadata": {},
   "outputs": [
    {
     "name": "stderr",
     "output_type": "stream",
     "text": [
      "c:\\Users\\aende\\OneDrive\\Desktop\\PokerProject\\myenv\\lib\\site-packages\\sklearn\\neighbors\\_classification.py:215: DataConversionWarning: A column-vector y was passed when a 1d array was expected. Please change the shape of y to (n_samples,), for example using ravel().\n",
      "  return self._fit(X, y)\n"
     ]
    },
    {
     "name": "stdout",
     "output_type": "stream",
     "text": [
      "Train Accuracy = 0.6822071171531388\n",
      "Test Accuracy = 0.527313\n"
     ]
    }
   ],
   "source": [
    "from sklearn.neighbors import KNeighborsClassifier\n",
    "\n",
    "KNC = KNeighborsClassifier()\n",
    "KNC.fit(X_train, y_train)\n",
    "\n",
    "train_predict = KNC.predict(X_train)\n",
    "test_predict = KNC.predict(X_test)\n",
    "\n",
    "train_accuracy = np.sum(train_predict == y_train[\"CLASS\"])/len(train_predict)\n",
    "test_accuracy = np.sum(test_predict == y_test[\"CLASS\"])/len(test_predict)\n",
    "print(f\"Train Accuracy = {train_accuracy}\")\n",
    "print(f\"Test Accuracy = {test_accuracy}\")"
   ]
  },
  {
   "attachments": {},
   "cell_type": "markdown",
   "metadata": {},
   "source": [
    "#### Gradient Boosting Classifier"
   ]
  },
  {
   "cell_type": "code",
   "execution_count": 91,
   "metadata": {},
   "outputs": [
    {
     "name": "stdout",
     "output_type": "stream",
     "text": [
      "Train Accuracy = 0.8024790083966413\n",
      "Test Accuracy = 0.680195\n"
     ]
    }
   ],
   "source": [
    "from xgboost import XGBClassifier\n",
    "\n",
    "XGBC = XGBClassifier()\n",
    "XGBC.fit(X_train, y_train)\n",
    "\n",
    "train_predict = XGBC.predict(X_train)\n",
    "test_predict = XGBC.predict(X_test)\n",
    "\n",
    "train_accuracy = np.sum(train_predict == y_train[\"CLASS\"])/len(train_predict)\n",
    "test_accuracy = np.sum(test_predict == y_test[\"CLASS\"])/len(test_predict)\n",
    "print(f\"Train Accuracy = {train_accuracy}\")\n",
    "print(f\"Test Accuracy = {test_accuracy}\")\n"
   ]
  },
  {
   "attachments": {},
   "cell_type": "markdown",
   "metadata": {},
   "source": [
    "Based on the results above we can see that the Gradient Boosting Algorithm performed best in both datasets. We also see that the Random Forest performed better than the K-Nearest Neigbors in the test set. These results highlight the value of Gradient Boosting when it comes to large and complex datasets."
   ]
  }
 ],
 "metadata": {
  "kernelspec": {
   "display_name": "myenv",
   "language": "python",
   "name": "python3"
  },
  "language_info": {
   "codemirror_mode": {
    "name": "ipython",
    "version": 3
   },
   "file_extension": ".py",
   "mimetype": "text/x-python",
   "name": "python",
   "nbconvert_exporter": "python",
   "pygments_lexer": "ipython3",
   "version": "3.9.13"
  },
  "orig_nbformat": 4
 },
 "nbformat": 4,
 "nbformat_minor": 2
}
